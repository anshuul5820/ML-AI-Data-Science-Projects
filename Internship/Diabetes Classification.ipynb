{
  "nbformat": 4,
  "nbformat_minor": 0,
  "metadata": {
    "accelerator": "GPU",
    "colab": {
      "name": "IITR_project.ipynb",
      "provenance": [],
      "collapsed_sections": [],
      "include_colab_link": true
    },
    "kernelspec": {
      "display_name": "Python 3",
      "language": "python",
      "name": "python3"
    },
    "language_info": {
      "codemirror_mode": {
        "name": "ipython",
        "version": 3
      },
      "file_extension": ".py",
      "mimetype": "text/x-python",
      "name": "python",
      "nbconvert_exporter": "python",
      "pygments_lexer": "ipython3",
      "version": "3.8.2"
    }
  },
  "cells": [
    {
      "cell_type": "markdown",
      "metadata": {
        "id": "view-in-github",
        "colab_type": "text"
      },
      "source": [
        "<a href=\"https://colab.research.google.com/github/schuylerdare96/ML-AI-Data-Science-Projects/blob/master/Internship/Diabetes%20ClassificationIITR_project.ipynb\" target=\"_parent\"><img src=\"https://colab.research.google.com/assets/colab-badge.svg\" alt=\"Open In Colab\"/></a>"
      ]
    },
    {
      "cell_type": "markdown",
      "metadata": {
        "colab_type": "text",
        "id": "NqmD2gA6HwRs"
      },
      "source": [
        "### Diabetes patient claification:-\n",
        "\n",
        "This model is a claification-based Machine Learning model that learns from various parameterf of a dataset and predicts if the patient is diabetes positive. It trains the training data on various estimators(algorithms) and predicts the test dataset on the estimator that has the highest training and testing score. \n",
        "\n",
        "The datset has been downloaded from kaggle:\n",
        "https://www.kaggle.com/uciml/pima-indians-diabetes-database\n",
        "\n",
        "### About the dataset:-\n",
        "This dataset is originally from the National Institute of Diabetes and Digestive and Kidney Diseases. The objective of the dataset is to diagnostically predict whether or not a patient has diabetes, based on certain diagnostic measurements included in the dataset. Several constraints were placed on the selection of these instances from a larger database. In particular, all patients here are females at least 21 years old of Pima Indian heritage.\n",
        "#### Content:-\n",
        "The datasets consists of several medical predictor variables and one target variable, Outcome. Predictor variables includes the number of pregnancies the patient has had, their BMI, insulin level, age, and so on.\n",
        "#### Acknowledgements:-\n",
        "Smith, J.W., Everhart, J.E., Dickson, W.C., Knowler, W.C., & Johannes, R.S. (1988). Using the ADAP learning algorithm to forecast the onset of diabetes mellitus. In Proceedings of the Symposium on Computer Applications and Medical Care (pp. 261--265). IEEE Computer Society Press.\n",
        "\n",
        "### Columns in the dataset:-\n",
        "\n",
        "- **Pregnancies**:Number of times pregnant\n",
        "- **Glucose**:Plasma glucose concentration a 2 hours in an oral glucose tolerance test\n",
        "- **BloodPressure**:Diastolic blood pressure (mm Hg)\n",
        "- **SkinThickness**:Triceps skin fold thickness (mm)\n",
        "- **Insulin**:2-Hour serum insulin (mu U/ml)\n",
        "- **BMI**:Body mass index (weight in kg/(height in m)^2)\n",
        "- **Age**:Age(years)\n",
        "- **DiabetesPedigreeFunction**:Diabetes pedigree function\n",
        "- **Pregnancies**:Number of times pregnant\n",
        "- **Outcome**:Class variable (0 or 1) 268 of 768 are 1, the others are 0"
      ]
    },
    {
      "cell_type": "code",
      "metadata": {
        "colab_type": "code",
        "id": "sfi1tDOp2ZEp",
        "colab": {}
      },
      "source": [
        "import pandas as pd\n",
        "import numpy as np\n",
        "import matplotlib.pyplot as plt\n",
        "%matplotlib inline \n",
        "import seaborn as sns\n",
        "\n",
        "# Models from Scikit-Learn\n",
        "from sklearn.linear_model import LogisticRegression,LassoCV, RidgeCV, ElasticNetCV\n",
        "from sklearn.neighbors import KNeighborsClassifier\n",
        "from sklearn.ensemble import RandomForestClassifier\n",
        "from sklearn.naive_bayes import GaussianNB,BernoulliNB, MultinomialNB\n",
        "from sklearn.svm import SVC,LinearSVC\n",
        "from sklearn.tree import DecisionTreeClassifier\n",
        "\n",
        "#Importing XVG\t\n",
        "from numpy import loadtxt\n",
        "from xgboost import XGBClassifier\n",
        "\n",
        "# Model Evaluations\n",
        "from sklearn.model_selection import train_test_split, cross_val_score\n",
        "from sklearn.model_selection import RandomizedSearchCV, GridSearchCV\n",
        "from sklearn.metrics import confusion_matrix, classification_report\n",
        "from sklearn.metrics import precision_score, recall_score, f1_score\n",
        "from sklearn.metrics import plot_roc_curve\n",
        "\n",
        "#to save mode\n",
        "from sklearn.externals import joblib"
      ],
      "execution_count": 0,
      "outputs": []
    },
    {
      "cell_type": "code",
      "metadata": {
        "colab_type": "code",
        "id": "ndIrVXAo3TVO",
        "outputId": "8389a0df-551d-4f05-b5aa-d4ff01b85dae",
        "colab": {
          "base_uri": "https://localhost:8080/",
          "height": 206
        }
      },
      "source": [
        "df=pd.read_csv('/content/drive/My Drive/Colab Notebooks/diabetes.csv')\n",
        "df.columns=['Pregnancy','Glucose','BloodPressure','SkinThickness','Insulin','BMI','PedigreeFn','Age','Target']\n",
        "\n",
        "df.Glucose.replace(0, np.nan, inplace=True)\n",
        "df.Glucose.replace(np.nan, df['Glucose'].median(), inplace=True)\n",
        "df.BloodPressure.replace(0, np.nan, inplace=True)\n",
        "df.BloodPressure.replace(np.nan, df['BloodPressure'].median(), inplace=True)\n",
        "df.SkinThickness.replace(0, np.nan, inplace=True)\n",
        "df.SkinThickness.replace(np.nan, df['SkinThickness'].median(), inplace=True)\n",
        "df.Insulin.replace(0, np.nan, inplace=True)\n",
        "df.Insulin.replace(np.nan, df['Insulin'].median(), inplace=True)\n",
        "df.BMI.replace(0, np.nan, inplace=True)\n",
        "df.BMI.replace(np.nan, df['BMI'].median(), inplace=True)\n",
        "df.head()\n",
        "\n"
      ],
      "execution_count": 7,
      "outputs": [
        {
          "output_type": "execute_result",
          "data": {
            "text/html": [
              "<div>\n",
              "<style scoped>\n",
              "    .dataframe tbody tr th:only-of-type {\n",
              "        vertical-align: middle;\n",
              "    }\n",
              "\n",
              "    .dataframe tbody tr th {\n",
              "        vertical-align: top;\n",
              "    }\n",
              "\n",
              "    .dataframe thead th {\n",
              "        text-align: right;\n",
              "    }\n",
              "</style>\n",
              "<table border=\"1\" class=\"dataframe\">\n",
              "  <thead>\n",
              "    <tr style=\"text-align: right;\">\n",
              "      <th></th>\n",
              "      <th>Pregnancy</th>\n",
              "      <th>Glucose</th>\n",
              "      <th>BloodPressure</th>\n",
              "      <th>SkinThickness</th>\n",
              "      <th>Insulin</th>\n",
              "      <th>BMI</th>\n",
              "      <th>PedigreeFn</th>\n",
              "      <th>Age</th>\n",
              "      <th>Target</th>\n",
              "    </tr>\n",
              "  </thead>\n",
              "  <tbody>\n",
              "    <tr>\n",
              "      <th>0</th>\n",
              "      <td>6</td>\n",
              "      <td>148.0</td>\n",
              "      <td>72.0</td>\n",
              "      <td>35.0</td>\n",
              "      <td>125.0</td>\n",
              "      <td>33.6</td>\n",
              "      <td>0.627</td>\n",
              "      <td>50</td>\n",
              "      <td>1</td>\n",
              "    </tr>\n",
              "    <tr>\n",
              "      <th>1</th>\n",
              "      <td>1</td>\n",
              "      <td>85.0</td>\n",
              "      <td>66.0</td>\n",
              "      <td>29.0</td>\n",
              "      <td>125.0</td>\n",
              "      <td>26.6</td>\n",
              "      <td>0.351</td>\n",
              "      <td>31</td>\n",
              "      <td>0</td>\n",
              "    </tr>\n",
              "    <tr>\n",
              "      <th>2</th>\n",
              "      <td>8</td>\n",
              "      <td>183.0</td>\n",
              "      <td>64.0</td>\n",
              "      <td>29.0</td>\n",
              "      <td>125.0</td>\n",
              "      <td>23.3</td>\n",
              "      <td>0.672</td>\n",
              "      <td>32</td>\n",
              "      <td>1</td>\n",
              "    </tr>\n",
              "    <tr>\n",
              "      <th>3</th>\n",
              "      <td>1</td>\n",
              "      <td>89.0</td>\n",
              "      <td>66.0</td>\n",
              "      <td>23.0</td>\n",
              "      <td>94.0</td>\n",
              "      <td>28.1</td>\n",
              "      <td>0.167</td>\n",
              "      <td>21</td>\n",
              "      <td>0</td>\n",
              "    </tr>\n",
              "    <tr>\n",
              "      <th>4</th>\n",
              "      <td>0</td>\n",
              "      <td>137.0</td>\n",
              "      <td>40.0</td>\n",
              "      <td>35.0</td>\n",
              "      <td>168.0</td>\n",
              "      <td>43.1</td>\n",
              "      <td>2.288</td>\n",
              "      <td>33</td>\n",
              "      <td>1</td>\n",
              "    </tr>\n",
              "  </tbody>\n",
              "</table>\n",
              "</div>"
            ],
            "text/plain": [
              "   Pregnancy  Glucose  BloodPressure  ...  PedigreeFn  Age  Target\n",
              "0          6    148.0           72.0  ...       0.627   50       1\n",
              "1          1     85.0           66.0  ...       0.351   31       0\n",
              "2          8    183.0           64.0  ...       0.672   32       1\n",
              "3          1     89.0           66.0  ...       0.167   21       0\n",
              "4          0    137.0           40.0  ...       2.288   33       1\n",
              "\n",
              "[5 rows x 9 columns]"
            ]
          },
          "metadata": {
            "tags": []
          },
          "execution_count": 7
        }
      ]
    },
    {
      "cell_type": "code",
      "metadata": {
        "id": "7triGdjYoIcl",
        "colab_type": "code",
        "outputId": "24b52cbd-5582-420c-cd80-9a78fc537581",
        "colab": {
          "base_uri": "https://localhost:8080/",
          "height": 35
        }
      },
      "source": [
        "from google.colab import drive\n",
        "drive.mount('/content/drive')"
      ],
      "execution_count": 8,
      "outputs": [
        {
          "output_type": "stream",
          "text": [
            "Drive already mounted at /content/drive; to attempt to forcibly remount, call drive.mount(\"/content/drive\", force_remount=True).\n"
          ],
          "name": "stdout"
        }
      ]
    },
    {
      "cell_type": "markdown",
      "metadata": {
        "id": "YyV5REcgm0gU",
        "colab_type": "text"
      },
      "source": [
        "**From the datset, we can know that there are many 0's in Glucose, BloodPressure, SkinThickness, Insulin, BMI columns.\n",
        "These 0's might affect the training accuracy of data. Thus, it's been replaced with the median of the corresponding column.**"
      ]
    },
    {
      "cell_type": "code",
      "metadata": {
        "colab_type": "code",
        "id": "Bcu-HUAJ3hqK",
        "colab": {
          "base_uri": "https://localhost:8080/",
          "height": 262
        },
        "outputId": "90bb896e-7545-4290-a1c6-5c338ec313b6"
      },
      "source": [
        "df['Target'].value_counts().plot(kind=\"bar\", color=[\"salmon\", \"lightblue\"]);"
      ],
      "execution_count": 9,
      "outputs": [
        {
          "output_type": "display_data",
          "data": {
            "image/png": "[encoded data removed]",
            "text/plain": [
              "<Figure size 432x288 with 1 Axes>"
            ]
          },
          "metadata": {
            "tags": [],
            "needs_background": "light"
          }
        }
      ]
    },
    {
      "cell_type": "code",
      "metadata": {
        "colab_type": "code",
        "id": "kSjF6ot16bzl",
        "colab": {
          "base_uri": "https://localhost:8080/",
          "height": 404
        },
        "outputId": "00966706-eb9a-4568-a966-de6349fe6017"
      },
      "source": [
        "# Create another figure\n",
        "plt.figure(figsize=(10, 6))\n",
        "\n",
        "# Scatter with postivie examples\n",
        "plt.scatter(df.BMI[df.Target==1],\n",
        "            df.Age[df.Target==1],\n",
        "            c=\"lightblue\")\n",
        "\n",
        "# Scatter with negative examples\n",
        "plt.scatter(df.BMI[df.Target==0],\n",
        "            df.Age[df.Target==0],\n",
        "            c=\"orange\")\n",
        "\n",
        "# Add some helpful info\n",
        "plt.title(\"BMI vs Age\")\n",
        "plt.xlabel(\"BMI\")\n",
        "plt.ylabel(\"Age\")\n",
        "plt.legend([\"Diabetic\", \"Not Diabetic\"]);"
      ],
      "execution_count": 10,
      "outputs": [
        {
          "output_type": "display_data",
          "data": {
            "image/png": "[encoded data removed]",
            "text/plain": [
              "<Figure size 720x432 with 1 Axes>"
            ]
          },
          "metadata": {
            "tags": [],
            "needs_background": "light"
          }
        }
      ]
    },
    {
      "cell_type": "code",
      "metadata": {
        "colab_type": "code",
        "id": "iMSYpEmC_oio",
        "colab": {
          "base_uri": "https://localhost:8080/",
          "height": 265
        },
        "outputId": "abf880ae-a7ca-43cf-bab8-f2874fa4a239"
      },
      "source": [
        "df.Age.plot.hist();"
      ],
      "execution_count": 11,
      "outputs": [
        {
          "output_type": "display_data",
          "data": {
            "image/png": "[encoded data removed]",
            "text/plain": [
              "<Figure size 432x288 with 1 Axes>"
            ]
          },
          "metadata": {
            "tags": [],
            "needs_background": "light"
          }
        }
      ]
    },
    {
      "cell_type": "code",
      "metadata": {
        "colab_type": "code",
        "id": "mXU7fWoQBx-U",
        "colab": {
          "base_uri": "https://localhost:8080/",
          "height": 35
        },
        "outputId": "a541605a-b016-4f79-ee13-929da94bac1d"
      },
      "source": [
        "per=(df.Target.value_counts()[1]/df.Target.count()*100)\n",
        "print(f\"percentage of diabetic people is {per} %\")"
      ],
      "execution_count": 12,
      "outputs": [
        {
          "output_type": "stream",
          "text": [
            "percentage of diabetic people is 34.89583333333333 %\n"
          ],
          "name": "stdout"
        }
      ]
    },
    {
      "cell_type": "markdown",
      "metadata": {
        "id": "ImIZKdFOm0gv",
        "colab_type": "text"
      },
      "source": [
        "### Finding correlation coefficient:-"
      ]
    },
    {
      "cell_type": "code",
      "metadata": {
        "colab_type": "code",
        "id": "AvoUhpG3Gpth",
        "colab": {
          "base_uri": "https://localhost:8080/",
          "height": 596
        },
        "outputId": "059057a9-dbc7-4834-db84-3e990618d5ad"
      },
      "source": [
        "corr_matrix = df.corr()\n",
        "fig, ax = plt.subplots(figsize=(15, 10))\n",
        "ax = sns.heatmap(corr_matrix,\n",
        "                 annot=True,\n",
        "                 linewidths=0.5,\n",
        "                 fmt=\".2f\",\n",
        "                 cmap=\"YlGnBu\");\n",
        "bottom, top = ax.get_ylim()"
      ],
      "execution_count": 13,
      "outputs": [
        {
          "output_type": "display_data",
          "data": {
            "image/png": "[encoded data removed]",
            "text/plain": [
              "<Figure size 1080x720 with 2 Axes>"
            ]
          },
          "metadata": {
            "tags": [],
            "needs_background": "light"
          }
        }
      ]
    },
    {
      "cell_type": "code",
      "metadata": {
        "colab_type": "code",
        "id": "gPsp-8zdGtd6",
        "colab": {}
      },
      "source": [
        "#Modelling\n",
        "# Split data into X and y\n",
        "X = df.drop(\"Target\", axis=1)\n",
        "y = df[\"Target\"]\n",
        "\n",
        "X_acc=X\n",
        "y_acc=y"
      ],
      "execution_count": 0,
      "outputs": []
    },
    {
      "cell_type": "code",
      "metadata": {
        "colab_type": "code",
        "id": "oVv0-4ItLM0N",
        "colab": {
          "base_uri": "https://localhost:8080/",
          "height": 108
        },
        "outputId": "4823a560-d66e-4ce2-8a74-0363e5ebef26"
      },
      "source": [
        "# Splitting data into train and test sets\n",
        "np.random.seed(53)\n",
        "\n",
        "# Here 25% data has been keep aside for testing, and model is trained on 75% data\n",
        "X_train, X_test, y_train, y_test = train_test_split(X,\n",
        "                                                    y,\n",
        "                                                    test_size=.10)\n",
        " \n",
        "\n",
        "\n",
        "print(X.shape,y.shape)                                               \n",
        "print(X_train.shape,y_train.shape)\n",
        "print(X_test.shape,y_test.shape)\n",
        "\n",
        "val1_X,val2_X,val1_y,val2_y=train_test_split(X,y,test_size=0.456)\n",
        "print(val1_X.shape,val1_y.shape)\n",
        "print(val2_X.shape,val2_y.shape)\n"
      ],
      "execution_count": 15,
      "outputs": [
        {
          "output_type": "stream",
          "text": [
            "(768, 8) (768,)\n",
            "(691, 8) (691,)\n",
            "(77, 8) (77,)\n",
            "(417, 8) (417,)\n",
            "(351, 8) (351,)\n"
          ],
          "name": "stdout"
        }
      ]
    },
    {
      "cell_type": "markdown",
      "metadata": {
        "id": "nzTWH4e1m0g_",
        "colab_type": "text"
      },
      "source": [
        "Now, the training dataset will be fitted(trained) and tested on various estimators, to figure out which estimator yieds the best result..."
      ]
    },
    {
      "cell_type": "code",
      "metadata": {
        "colab_type": "code",
        "id": "YVO6QDbBL6ZH",
        "colab": {
          "base_uri": "https://localhost:8080/",
          "height": 380
        },
        "outputId": "3c7d1c0e-d67e-451a-d21d-b16c91d97bb8"
      },
      "source": [
        "# Put models in a dictionary\n",
        "models = {\n",
        "        #  \"Logistic Regression\": LogisticRegression(),\n",
        "          \"KNN\": KNeighborsClassifier(),\n",
        "          \"Random Forest\": RandomForestClassifier(n_estimators=200),\n",
        "          \"GaussianNB\":GaussianNB(),\n",
        "          \"BernoulliNB\":BernoulliNB(),\n",
        "          \"MultinomialNB\":MultinomialNB(),\n",
        "          \"LinearSVC\":LinearSVC(),\n",
        "          \"SVC\":SVC(kernel='linear'),\n",
        "          \"XGBclassifier\":XGBClassifier(),\n",
        "          \"DesicisonTreeClassifier\":DecisionTreeClassifier()                                        \n",
        "          # \"Catboost\":CatBoostClassifier()\n",
        "          }\n",
        "\n",
        "# LassoCV, RidgeCV, ElasticNetCV\n",
        "# Create a function to fit and score models\n",
        "def fit_and_score(models, X_train, X_test, y_train, y_test):\n",
        "    \"\"\"\n",
        "    Fits and evaluates given machine learning models.\n",
        "    models : a dict of different Scikit-Learn machine learning models\n",
        "    X_train : training data (no labels)\n",
        "    X_test : testing data (no labels)\n",
        "    y_train : training labels\n",
        "    y_test : test labels\n",
        "    \"\"\"\n",
        "    # Set random seed\n",
        "    np.random.seed(53)\n",
        "    # Make a dictionary to keep model scores\n",
        "    train_model_scores = {}\n",
        "    val_model_scores={}\n",
        "    # Loop through models\n",
        "    for name, model in models.items():\n",
        "        # Fit the model to the data\n",
        "        model.fit(X_train, y_train)\n",
        "        # Evaluate the model and append its score to model_scores\n",
        "        train_model_scores[name] = model.score(X_train, y_train)\n",
        "        val_model_scores[name]=model.score(X_test,y_test)\n",
        "    return train_model_scores,val_model_scores\n",
        "\n",
        "\n",
        "model_scores = fit_and_score(models=models,\n",
        "                             X_train=X_train,\n",
        "                             X_test=X_test,\n",
        "                             y_train=y_train,\n",
        "                             y_test=y_test)\n",
        "\n",
        "\n",
        "model_scores "
      ],
      "execution_count": 16,
      "outputs": [
        {
          "output_type": "stream",
          "text": [
            "/usr/local/lib/python3.6/dist-packages/sklearn/svm/_base.py:947: ConvergenceWarning: Liblinear failed to converge, increase the number of iterations.\n",
            "  \"the number of iterations.\", ConvergenceWarning)\n"
          ],
          "name": "stderr"
        },
        {
          "output_type": "execute_result",
          "data": {
            "text/plain": [
              "({'BernoulliNB': 0.6555716353111433,\n",
              "  'DesicisonTreeClassifier': 1.0,\n",
              "  'GaussianNB': 0.748191027496382,\n",
              "  'KNN': 0.8031837916063675,\n",
              "  'LinearSVC': 0.7206946454413893,\n",
              "  'MultinomialNB': 0.6541244573082489,\n",
              "  'Random Forest': 1.0,\n",
              "  'SVC': 0.768451519536903,\n",
              "  'XGBclassifier': 0.8827785817655571},\n",
              " {'BernoulliNB': 0.6103896103896104,\n",
              "  'DesicisonTreeClassifier': 0.7012987012987013,\n",
              "  'GaussianNB': 0.7402597402597403,\n",
              "  'KNN': 0.7142857142857143,\n",
              "  'LinearSVC': 0.7142857142857143,\n",
              "  'MultinomialNB': 0.6103896103896104,\n",
              "  'Random Forest': 0.7532467532467533,\n",
              "  'SVC': 0.8051948051948052,\n",
              "  'XGBclassifier': 0.7402597402597403})"
            ]
          },
          "metadata": {
            "tags": []
          },
          "execution_count": 16
        }
      ]
    },
    {
      "cell_type": "markdown",
      "metadata": {
        "id": "klJHARQ9m0hG",
        "colab_type": "text"
      },
      "source": [
        "***As visible, the SVC classifier has yielded the best results on the testing, while RandomForestClassifier has yielded the best result. However, RandomForestClassifier is overfitted since it has 100% accuracy on training data, while only 75.3% accuracy on testing data. Thus, SVC classifier will be used in future ....***"
      ]
    },
    {
      "cell_type": "markdown",
      "metadata": {
        "id": "gMiddS81m0ha",
        "colab_type": "text"
      },
      "source": [
        "***Now, we will tune the hyperparameters to see how much improvement can be made out of each model...***\n",
        "\n",
        "(**PS: I've used RandomizedSearchCV and less number of coefficient to tune the model, since some models take longer durations and still don't complete**)"
      ]
    },
    {
      "cell_type": "code",
      "metadata": {
        "colab_type": "code",
        "id": "-P3VFmxeOvy8",
        "colab": {}
      },
      "source": [
        "#Defining grids for various estimators...\n",
        "\n",
        "# Create a hyperparameter grid for KNNgrid\n",
        "KNNgrid = {\"leaf_size\":[2],\n",
        "           \"n_neighbors\":[25,26,27,28,29,20],\n",
        "           \"p\":[1,2,3,4,5]}\n",
        "\n",
        "# Create a hyperparameter grid for SVMClassifier\n",
        "SVM_grid = {\n",
        "            'kernel': ['linear'],\n",
        "            # 'gamma': [0.8,1,0.6,0.4,0.2],\n",
        "            'gamma': [0.8],\n",
        "            'C': [0.1]\n",
        "            }  \n",
        "\n",
        "# Create a hyperparameter grid for LogisticRegression\n",
        "log_reg_grid = {\"C\": np.logspace(-4, 4, 500),\n",
        "                \"solver\": [\"newton-cg\", \"lbfgs\", \"liblinear\", \"sag\", \"saga\"]\n",
        "                \n",
        "                }\n",
        "\n",
        "#Create a hyperparameter grid for RandomForestClassifier\n",
        "rf_grid={'n_estimators': [200],\n",
        "         'max_depth' : [20],\n",
        "         'min_samples_split' : [0.1],\n",
        "         'min_samples_leaf' : [0,1],\n",
        "         'max_features' : list(range(1,X_train.shape[1]))\n",
        "         }\n",
        "\n",
        "\n",
        "# Create a hyperparameter grid for Naive Bayes\n",
        "NBgrid={\"var_smoothing\": np.logspace(100,-200, num=200)}\n",
        "\n",
        "\n",
        "# Create a hyperparameter grid for XGBClassifier\n",
        "XGBgrid={\"eta\"    : [0.10] ,\n",
        "         \"max_depth\"        : [6,7,8,9,10],\n",
        "         \"min_child_weight\" : [3,4,5],\n",
        "         \"gamma\"            : [ 0.0, 0.1, 0.2 , 0.3, 0.4 ],\n",
        "        #  \"colsample_bytree\" : np.arange(0.5,1.1,0.1),\n",
        "         \"booster\"          : [\"gbtree\"]\n",
        "        #  \"subsample\"        : np.arange(0.5,1.1,0.1)\n",
        "        }\n"
      ],
      "execution_count": 0,
      "outputs": []
    },
    {
      "cell_type": "code",
      "metadata": {
        "colab_type": "code",
        "id": "3dNGE65CSQTT",
        "colab": {}
      },
      "source": [
        "# Tune LogisticRegression\n",
        "np.random.seed(53)\n",
        "\n",
        "# Setup random hyperparameter search for LogisticRegression\n",
        "rs_log_reg = RandomizedSearchCV(LogisticRegression(),\n",
        "                                param_distributions=log_reg_grid,\n",
        "                                cv=5,\n",
        "                                n_iter=50,\n",
        "                                n_jobs=-1,\n",
        "                                verbose=True)\n",
        "svc=GridSearchCV(SVC(),\n",
        "                 param_grid=SVM_grid,\n",
        "                 n_jobs=-1,\n",
        "                 cv=5,\n",
        "                 verbose=True)\n",
        "\n",
        "rs_rf = RandomForestClassifier(n_estimators=200)\n",
        "\n",
        "gs_KNN = GridSearchCV(KNeighborsClassifier(),\n",
        "                            param_grid=KNNgrid,\n",
        "                            cv=5,\n",
        "                            n_jobs=-1,\n",
        "                            verbose=True)\n",
        "rs_NB=RandomizedSearchCV(GaussianNB(),\n",
        "                    param_distributions=NBgrid,\n",
        "                    cv=5,\n",
        "                    n_iter=200,\n",
        "                    n_jobs=-1,\n",
        "                    verbose=True)\n",
        "\n",
        "rs_XGB=RandomizedSearchCV(XGBClassifier(),\n",
        "                    param_distributions=XGBgrid,\n",
        "                    cv=5,\n",
        "                    n_iter=50,\n",
        "                    n_jobs=-1,\n",
        "                    verbose=True)\n"
      ],
      "execution_count": 0,
      "outputs": []
    },
    {
      "cell_type": "markdown",
      "metadata": {
        "id": "PfiEiiDSm0hk",
        "colab_type": "text"
      },
      "source": [
        "**A function to tune all hyperparameters and calculate the accuracy of each estimator (parameters tuned)**"
      ]
    },
    {
      "cell_type": "code",
      "metadata": {
        "colab_type": "code",
        "id": "t1p-CnFii7Uk",
        "colab": {}
      },
      "source": [
        "# show training and testing accuracy of various estimators used(after paramaters tuned)\n",
        "tuned_models={\n",
        "              \"LRClassifier\":rs_log_reg,\n",
        "              \"KNNClasifier\":gs_KNN,\n",
        "              \"RandomForestclassifier\":rs_rf,\n",
        "              \"GaussianNB\":rs_NB,\n",
        "              \"SVCClassifier\":svc,\n",
        "              \"XGBClassifier\":rs_XGB\n",
        "              }\n",
        "def show_score(model,X_train,X_test,y_train,y_test):\n",
        "  np.random.seed(67)\n",
        "  training_model_scores={}\n",
        "  testing_model_scores={}\n",
        " \n",
        "  for key,value in model.items():\n",
        "    value.fit(X_train,y_train)\n",
        "    training_model_scores[key]=value.score(X_train,y_train)\n",
        "    testing_model_scores[key]=value.score(X_test,y_test)\n",
        "  \n",
        "  return training_model_scores,testing_model_scores\n",
        "    \n"
      ],
      "execution_count": 0,
      "outputs": []
    },
    {
      "cell_type": "code",
      "metadata": {
        "colab_type": "code",
        "id": "55XPriRTTe7i",
        "colab": {
          "base_uri": "https://localhost:8080/",
          "height": 580
        },
        "outputId": "9795a2c7-0a7d-480a-88b4-dc93a2cbcd06"
      },
      "source": [
        "tuned_model_results=show_score(model=tuned_models,\n",
        "                               X_train=X_train,\n",
        "                               X_test=X_test,\n",
        "                               y_train=y_train,\n",
        "                               y_test=y_test)\n",
        "tuned_model_results"
      ],
      "execution_count": 20,
      "outputs": [
        {
          "output_type": "stream",
          "text": [
            "Fitting 5 folds for each of 50 candidates, totalling 250 fits\n"
          ],
          "name": "stdout"
        },
        {
          "output_type": "stream",
          "text": [
            "[Parallel(n_jobs=-1)]: Using backend LokyBackend with 2 concurrent workers.\n",
            "[Parallel(n_jobs=-1)]: Done  66 tasks      | elapsed:    3.3s\n",
            "[Parallel(n_jobs=-1)]: Done 250 out of 250 | elapsed:    7.2s finished\n",
            "[Parallel(n_jobs=-1)]: Using backend LokyBackend with 2 concurrent workers.\n"
          ],
          "name": "stderr"
        },
        {
          "output_type": "stream",
          "text": [
            "Fitting 5 folds for each of 30 candidates, totalling 150 fits\n"
          ],
          "name": "stdout"
        },
        {
          "output_type": "stream",
          "text": [
            "[Parallel(n_jobs=-1)]: Done 150 out of 150 | elapsed:    2.8s finished\n"
          ],
          "name": "stderr"
        },
        {
          "output_type": "stream",
          "text": [
            "Fitting 5 folds for each of 200 candidates, totalling 1000 fits\n"
          ],
          "name": "stdout"
        },
        {
          "output_type": "stream",
          "text": [
            "[Parallel(n_jobs=-1)]: Using backend LokyBackend with 2 concurrent workers.\n",
            "[Parallel(n_jobs=-1)]: Done 926 tasks      | elapsed:    3.5s\n",
            "[Parallel(n_jobs=-1)]: Done 1000 out of 1000 | elapsed:    3.9s finished\n",
            "[Parallel(n_jobs=-1)]: Using backend LokyBackend with 2 concurrent workers.\n"
          ],
          "name": "stderr"
        },
        {
          "output_type": "stream",
          "text": [
            "Fitting 5 folds for each of 1 candidates, totalling 5 fits\n"
          ],
          "name": "stdout"
        },
        {
          "output_type": "stream",
          "text": [
            "[Parallel(n_jobs=-1)]: Done   5 out of   5 | elapsed:    1.5s finished\n"
          ],
          "name": "stderr"
        },
        {
          "output_type": "stream",
          "text": [
            "Fitting 5 folds for each of 50 candidates, totalling 250 fits\n"
          ],
          "name": "stdout"
        },
        {
          "output_type": "stream",
          "text": [
            "[Parallel(n_jobs=-1)]: Using backend LokyBackend with 2 concurrent workers.\n",
            "[Parallel(n_jobs=-1)]: Done  46 tasks      | elapsed:    3.5s\n",
            "[Parallel(n_jobs=-1)]: Done 196 tasks      | elapsed:   13.9s\n",
            "[Parallel(n_jobs=-1)]: Done 250 out of 250 | elapsed:   17.5s finished\n"
          ],
          "name": "stderr"
        },
        {
          "output_type": "execute_result",
          "data": {
            "text/plain": [
              "({'GaussianNB': 0.748191027496382,\n",
              "  'KNNClasifier': 0.7713458755426917,\n",
              "  'LRClassifier': 0.7698986975397974,\n",
              "  'RandomForestclassifier': 1.0,\n",
              "  'SVCClassifier': 0.7626628075253257,\n",
              "  'XGBClassifier': 0.9638205499276411},\n",
              " {'GaussianNB': 0.7402597402597403,\n",
              "  'KNNClasifier': 0.7662337662337663,\n",
              "  'LRClassifier': 0.7792207792207793,\n",
              "  'RandomForestclassifier': 0.7272727272727273,\n",
              "  'SVCClassifier': 0.8181818181818182,\n",
              "  'XGBClassifier': 0.7272727272727273})"
            ]
          },
          "metadata": {
            "tags": []
          },
          "execution_count": 20
        }
      ]
    },
    {
      "cell_type": "markdown",
      "metadata": {
        "id": "4bZwPb5Rm0hx",
        "colab_type": "text"
      },
      "source": [
        "- As visible, the SVC classifier has returned the highest accuracy on testing data (**81.81% which is our requirement**)."
      ]
    },
    {
      "cell_type": "code",
      "metadata": {
        "colab_type": "code",
        "id": "SCcNOUwa6_a8",
        "colab": {}
      },
      "source": [
        "#Splitting the results of tuned models into training and testing scores\n",
        "training_scores= tuned_model_results[0]\n",
        "testing_scores= tuned_model_results[1]"
      ],
      "execution_count": 0,
      "outputs": []
    },
    {
      "cell_type": "markdown",
      "metadata": {
        "id": "cGfqoBoxm0h_",
        "colab_type": "text"
      },
      "source": [
        "#### Let's visualize the results returned by the tuning function ..."
      ]
    },
    {
      "cell_type": "code",
      "metadata": {
        "colab_type": "code",
        "id": "pprptR94-1OT",
        "colab": {
          "base_uri": "https://localhost:8080/",
          "height": 281
        },
        "outputId": "a59318be-9ad9-41ea-a22f-45e3b215b7cd"
      },
      "source": [
        "X=np.arange(len(training_scores))\n",
        "plt.figure(figsize=(12,4))\n",
        "ax=plt.subplot()\n",
        "# plt.axhline(y=0.8,linestyle='--',linewidth=0.5, color='black')\n",
        "ax.bar(X, training_scores.values(),width=0.15, color='orangered', align='center')\n",
        "ax.bar(X+0.15, testing_scores.values(),width=0.15, color='lime', align='center')\n",
        "ax.legend(('training scores','testing scores'))\n",
        "plt.xticks(X, training_scores.keys())\n",
        "plt.title(\"Scores\")\n",
        "plt.show();"
      ],
      "execution_count": 22,
      "outputs": [
        {
          "output_type": "display_data",
          "data": {
            "image/png": "[encoded data removed]",
            "text/plain": [
              "<Figure size 864x288 with 1 Axes>"
            ]
          },
          "metadata": {
            "tags": [],
            "needs_background": "light"
          }
        }
      ]
    },
    {
      "cell_type": "markdown",
      "metadata": {
        "id": "wwRTj09MnkT7",
        "colab_type": "text"
      },
      "source": [
        "**Since SVC Classifier meets our requirements, we'll use SVC further.**"
      ]
    },
    {
      "cell_type": "code",
      "metadata": {
        "colab_type": "code",
        "id": "Wnoj6tDIkKCR",
        "colab": {
          "base_uri": "https://localhost:8080/",
          "height": 206
        },
        "outputId": "019115e3-f6bc-4f79-88c3-c95f8a03d21d"
      },
      "source": [
        "#Predicting data on our tuned model\n",
        "y_preds=svc.predict(X_test)\n",
        "\n",
        "#Comparing actuak vs. predicted labels.\n",
        "comp_df = pd.DataFrame({'Actual': np.array(y_test), 'Predicted': y_preds})\n",
        "comp_df.head()"
      ],
      "execution_count": 23,
      "outputs": [
        {
          "output_type": "execute_result",
          "data": {
            "text/html": [
              "<div>\n",
              "<style scoped>\n",
              "    .dataframe tbody tr th:only-of-type {\n",
              "        vertical-align: middle;\n",
              "    }\n",
              "\n",
              "    .dataframe tbody tr th {\n",
              "        vertical-align: top;\n",
              "    }\n",
              "\n",
              "    .dataframe thead th {\n",
              "        text-align: right;\n",
              "    }\n",
              "</style>\n",
              "<table border=\"1\" class=\"dataframe\">\n",
              "  <thead>\n",
              "    <tr style=\"text-align: right;\">\n",
              "      <th></th>\n",
              "      <th>Actual</th>\n",
              "      <th>Predicted</th>\n",
              "    </tr>\n",
              "  </thead>\n",
              "  <tbody>\n",
              "    <tr>\n",
              "      <th>0</th>\n",
              "      <td>0</td>\n",
              "      <td>0</td>\n",
              "    </tr>\n",
              "    <tr>\n",
              "      <th>1</th>\n",
              "      <td>0</td>\n",
              "      <td>0</td>\n",
              "    </tr>\n",
              "    <tr>\n",
              "      <th>2</th>\n",
              "      <td>0</td>\n",
              "      <td>0</td>\n",
              "    </tr>\n",
              "    <tr>\n",
              "      <th>3</th>\n",
              "      <td>0</td>\n",
              "      <td>0</td>\n",
              "    </tr>\n",
              "    <tr>\n",
              "      <th>4</th>\n",
              "      <td>1</td>\n",
              "      <td>0</td>\n",
              "    </tr>\n",
              "  </tbody>\n",
              "</table>\n",
              "</div>"
            ],
            "text/plain": [
              "   Actual  Predicted\n",
              "0       0          0\n",
              "1       0          0\n",
              "2       0          0\n",
              "3       0          0\n",
              "4       1          0"
            ]
          },
          "metadata": {
            "tags": []
          },
          "execution_count": 23
        }
      ]
    },
    {
      "cell_type": "markdown",
      "metadata": {
        "id": "DqyCv-Cum0iS",
        "colab_type": "text"
      },
      "source": [
        "## Evaluation of our model:-\n",
        "\n",
        "**We will evaluate our model using various pre-built evaluation metrics.\n",
        "The following evaluation metrics have been used:**\n",
        "- ROC curve & AUC score\n",
        "- confusion matrix\n",
        "- Classification report\n",
        "- Cross-validated scores(Accuracy, Precision, Recall, f1)"
      ]
    },
    {
      "cell_type": "code",
      "metadata": {
        "colab_type": "code",
        "id": "M8JLw246lz6d",
        "colab": {
          "base_uri": "https://localhost:8080/",
          "height": 297
        },
        "outputId": "f17b3b20-966f-499d-ea5b-2d0c7d0454ac"
      },
      "source": [
        "# Plot ROC curve and calculate and calculate AUC metric\n",
        "plot_roc_curve(svc, X_test, y_test,color='blue')\n"
      ],
      "execution_count": 24,
      "outputs": [
        {
          "output_type": "execute_result",
          "data": {
            "text/plain": [
              "<sklearn.metrics._plot.roc_curve.RocCurveDisplay at 0x7fa880ed1320>"
            ]
          },
          "metadata": {
            "tags": []
          },
          "execution_count": 24
        },
        {
          "output_type": "display_data",
          "data": {
            "image/png": "[encoded data removed]",
            "text/plain": [
              "<Figure size 432x288 with 1 Axes>"
            ]
          },
          "metadata": {
            "tags": [],
            "needs_background": "light"
          }
        }
      ]
    },
    {
      "cell_type": "code",
      "metadata": {
        "id": "pIy6jFz4m0iY",
        "colab_type": "code",
        "colab": {}
      },
      "source": [
        ""
      ],
      "execution_count": 0,
      "outputs": []
    },
    {
      "cell_type": "code",
      "metadata": {
        "colab_type": "code",
        "id": "xXR8Kr4om_vU",
        "colab": {
          "base_uri": "https://localhost:8080/",
          "height": 279
        },
        "outputId": "6dc3b601-3945-4ca6-9192-fd04c18d5969"
      },
      "source": [
        "#Visualizing the confusion matrix\n",
        "fig, ax = plt.subplots(figsize=(4,4))\n",
        "ax = sns.heatmap(confusion_matrix(y_test, y_preds),\n",
        "                annot=True,\n",
        "                cbar=True)\n",
        "plt.xlabel(\"True label\")\n",
        "plt.ylabel(\"Predicted label\")\n",
        "    \n",
        "bottom, top = ax.get_ylim()"
      ],
      "execution_count": 25,
      "outputs": [
        {
          "output_type": "display_data",
          "data": {
            "image/png": "[encoded data removed]",
            "text/plain": [
              "<Figure size 288x288 with 2 Axes>"
            ]
          },
          "metadata": {
            "tags": [],
            "needs_background": "light"
          }
        }
      ]
    },
    {
      "cell_type": "code",
      "metadata": {
        "colab_type": "code",
        "id": "sOV_65turpRA",
        "colab": {
          "base_uri": "https://localhost:8080/",
          "height": 181
        },
        "outputId": "1aea527d-0d60-41f7-cb02-92307dc808c9"
      },
      "source": [
        "#Getting a classification report of the confusion matrix\n",
        "\n",
        "print(classification_report(y_test,y_preds))"
      ],
      "execution_count": 26,
      "outputs": [
        {
          "output_type": "stream",
          "text": [
            "              precision    recall  f1-score   support\n",
            "\n",
            "           0       0.80      0.94      0.86        47\n",
            "           1       0.86      0.63      0.73        30\n",
            "\n",
            "    accuracy                           0.82        77\n",
            "   macro avg       0.83      0.78      0.80        77\n",
            "weighted avg       0.82      0.82      0.81        77\n",
            "\n"
          ],
          "name": "stdout"
        }
      ]
    },
    {
      "cell_type": "code",
      "metadata": {
        "colab_type": "code",
        "id": "L0QKwf8xsTJ3",
        "colab": {
          "base_uri": "https://localhost:8080/",
          "height": 90
        },
        "outputId": "232ffb5e-4cda-49a8-a001-03a56866ac3c"
      },
      "source": [
        "# Evaluating the model on the basis of precision, recall, f1-score, support\n",
        "#Creating a new Estimator with best tuned hyperparameters\n",
        "clf=SVC(C= 0.1,\n",
        "        gamma= 1,\n",
        "        kernel= 'linear')\n",
        "\n",
        "# clf=LogisticRegression(C=843.0468371788967, solver ='newton-cg')\n",
        "clf.fit(X_train,y_train)\n",
        "print(clf.score(X_train,y_train),clf.score(X_test,y_test))\n",
        "print(clf.predict(X_test))"
      ],
      "execution_count": 27,
      "outputs": [
        {
          "output_type": "stream",
          "text": [
            "0.7626628075253257 0.8181818181818182\n",
            "[0 0 0 0 0 0 0 1 0 0 0 0 1 1 1 0 0 0 0 0 0 1 0 0 0 1 0 0 0 0 0 1 0 1 1 0 0\n",
            " 0 1 0 0 0 0 0 1 0 0 0 0 0 1 0 0 0 0 1 0 1 0 1 0 0 0 1 0 1 0 1 1 0 0 1 0 0\n",
            " 1 0 1]\n"
          ],
          "name": "stdout"
        }
      ]
    },
    {
      "cell_type": "markdown",
      "metadata": {
        "id": "4uLfXGARm0it",
        "colab_type": "text"
      },
      "source": [
        "**Calculating Cross-validated accuracy ..**"
      ]
    },
    {
      "cell_type": "code",
      "metadata": {
        "colab_type": "code",
        "id": "VniQWefTOtmo",
        "colab": {}
      },
      "source": [
        "acc={\"Accuracy metric\":\"accuracy\",\n",
        "     \"Precision metric\":\"precision\",\n",
        "     \"Recall metric\":\"recall\",\n",
        "     \"f1 metric\":\"f1\"}\n",
        "\n",
        "def calc_accuracy(classifier,X,y,cv,acc):\n",
        "  np.random.seed(69)\n",
        "  acc_dict={}\n",
        "  for key,value in acc.items():\n",
        "    acc_dict[key]=cross_val_score(classifier,X,y,cv=cv,scoring=value,n_jobs=-1)\n",
        "    acc_dict[key]=acc_dict[key].mean()\n",
        "\n",
        "  return acc_dict\n",
        "    \n",
        "     \n"
      ],
      "execution_count": 0,
      "outputs": []
    },
    {
      "cell_type": "code",
      "metadata": {
        "colab_type": "code",
        "id": "WfpIgQSvQpkZ",
        "colab": {
          "base_uri": "https://localhost:8080/",
          "height": 90
        },
        "outputId": "9fccdbad-a8d0-4ddd-8770-853fdbd4e30f"
      },
      "source": [
        "np.random.seed(47)\n",
        "score=calc_accuracy(classifier=clf,X=X_test,y=y_preds ,cv=10,acc=acc)\n",
        "# print(score)\n",
        "\n",
        "acc_score=[]\n",
        "for key,value in score.items():\n",
        "  acc_score.append(value)\n",
        "  print(f\"Accuracy score for {key} is {value*100}%.\")\n",
        "\n"
      ],
      "execution_count": 29,
      "outputs": [
        {
          "output_type": "stream",
          "text": [
            "Accuracy score for Accuracy metric is 92.5%.\n",
            "Accuracy score for Precision metric is 88.33333333333331%.\n",
            "Accuracy score for Recall metric is 91.66666666666666%.\n",
            "Accuracy score for f1 metric is 87.33333333333334%.\n"
          ],
          "name": "stdout"
        }
      ]
    },
    {
      "cell_type": "code",
      "metadata": {
        "colab_type": "code",
        "id": "TWB8ztugVO_k",
        "colab": {
          "base_uri": "https://localhost:8080/",
          "height": 317
        },
        "outputId": "47ffc64c-7289-40c7-898e-984cb09b0fb1"
      },
      "source": [
        "#visualizing accuracy\n",
        "\n",
        "cv_metrics = pd.DataFrame({\"Accuracy\": acc_score[0],\n",
        "                           \"Precision\": acc_score[1],\n",
        "                           \"Recall\": acc_score[2],\n",
        "                           \"F1\": acc_score[3]},\n",
        "                          index=[0])\n",
        "\n",
        "cv_metrics.T.plot.bar(title=\"Cross-validated classification metrics\",\n",
        "                      legend=False, color=\"orangered\");"
      ],
      "execution_count": 30,
      "outputs": [
        {
          "output_type": "display_data",
          "data": {
            "image/png": "[encoded data removed]",
            "text/plain": [
              "<Figure size 432x288 with 1 Axes>"
            ]
          },
          "metadata": {
            "tags": [],
            "needs_background": "light"
          }
        }
      ]
    },
    {
      "cell_type": "markdown",
      "metadata": {
        "id": "LZziIVXam0i3",
        "colab_type": "text"
      },
      "source": [
        "#### Analyzing feature importance:-\n",
        "Feature importance tells us which of the columns have contributed the most in achieving the accuracy score.\n",
        "This helps the researchers to work on the parameter that has mostly-likely caused diabetes to a person.\n"
      ]
    },
    {
      "cell_type": "code",
      "metadata": {
        "colab_type": "code",
        "id": "mNDFgtDEgjgq",
        "colab": {
          "base_uri": "https://localhost:8080/",
          "height": 53
        },
        "outputId": "3c92205a-1566-48f5-d80d-13320ec655e2"
      },
      "source": [
        "clf.coef_.flatten()"
      ],
      "execution_count": 31,
      "outputs": [
        {
          "output_type": "execute_result",
          "data": {
            "text/plain": [
              "array([ 1.16699574e-01,  2.99639762e-02, -6.16156645e-03, -5.81243192e-03,\n",
              "       -4.22539399e-04,  6.83304096e-02,  5.23832508e-01,  2.74381537e-03])"
            ]
          },
          "metadata": {
            "tags": []
          },
          "execution_count": 31
        }
      ]
    },
    {
      "cell_type": "code",
      "metadata": {
        "colab_type": "code",
        "id": "rZ1usKliYbOq",
        "colab": {
          "base_uri": "https://localhost:8080/",
          "height": 162
        },
        "outputId": "47485d34-b8cc-42c1-c3d1-3bec1d0ad5ab"
      },
      "source": [
        "feature_dict = dict(zip(df.columns, list((clf.coef_[0]*100))))\n",
        "for key, value in feature_dict.items():\n",
        "  print(f\"The importance of {key} is {value}%.\")\n"
      ],
      "execution_count": 32,
      "outputs": [
        {
          "output_type": "stream",
          "text": [
            "The importance of Pregnancy is 11.669957398089226%.\n",
            "The importance of Glucose is 2.9963976203207565%.\n",
            "The importance of BloodPressure is -0.6161566452849598%.\n",
            "The importance of SkinThickness is -0.5812431920282357%.\n",
            "The importance of Insulin is -0.042253939923497796%.\n",
            "The importance of BMI is 6.833040958233028%.\n",
            "The importance of PedigreeFn is 52.383250806853674%.\n",
            "The importance of Age is 0.2743815371651692%.\n"
          ],
          "name": "stdout"
        }
      ]
    },
    {
      "cell_type": "code",
      "metadata": {
        "colab_type": "code",
        "id": "fqvC60yugGC_",
        "colab": {
          "base_uri": "https://localhost:8080/",
          "height": 342
        },
        "outputId": "6d740381-833c-48a7-9753-e7e695fd06bd"
      },
      "source": [
        "#Visualizing the features\n",
        "feature_df = pd.DataFrame(feature_dict, index=[0])    \n",
        "feature_df.T.plot.bar(title=\"Feature Importance\", legend=False,color=\"green\");\n"
      ],
      "execution_count": 33,
      "outputs": [
        {
          "output_type": "display_data",
          "data": {
            "image/png": "[encoded data removed]",
            "text/plain": [
              "<Figure size 432x288 with 1 Axes>"
            ]
          },
          "metadata": {
            "tags": [],
            "needs_background": "light"
          }
        }
      ]
    },
    {
      "cell_type": "markdown",
      "metadata": {
        "id": "fLXULPftm0i_",
        "colab_type": "text"
      },
      "source": [
        "#### Conclusion:\n",
        "From the above derivations and analysis, it can be concluded that PedigreeFunction(52.383250806853674%) has the most important in deciding if a person has diabetes. Also, Insulin levels plays an important in the classification process."
      ]
    },
    {
      "cell_type": "markdown",
      "metadata": {
        "id": "mBZjANRrm0i_",
        "colab_type": "text"
      },
      "source": [
        "## Saving and reloading the model..."
      ]
    },
    {
      "cell_type": "code",
      "metadata": {
        "colab_type": "code",
        "id": "rfLS2u4fajUk",
        "colab": {
          "base_uri": "https://localhost:8080/",
          "height": 35
        },
        "outputId": "7bca3b17-58c5-40f9-cc0d-a0677d81b4ae"
      },
      "source": [
        "saved_model_file=\"diabetes_classifier_model.pkl\"\n",
        "joblib.dump(clf,saved_model_file)"
      ],
      "execution_count": 34,
      "outputs": [
        {
          "output_type": "execute_result",
          "data": {
            "text/plain": [
              "['diabetes_classifier_model.pkl']"
            ]
          },
          "metadata": {
            "tags": []
          },
          "execution_count": 34
        }
      ]
    },
    {
      "cell_type": "code",
      "metadata": {
        "colab_type": "code",
        "id": "gr_Ym5ALo_wr",
        "colab": {}
      },
      "source": [
        "#Reloading the model\n",
        "\n",
        "# diabetes_classifier_model=joblib.load(saved_model_file)\n",
        "# diabetes_classifier_model"
      ],
      "execution_count": 0,
      "outputs": []
    }
  ]
}
